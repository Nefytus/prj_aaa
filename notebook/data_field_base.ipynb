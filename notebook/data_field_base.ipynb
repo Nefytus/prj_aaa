{
  "nbformat": 4,
  "nbformat_minor": 0,
  "metadata": {
    "colab": {
      "name": "data_field_base",
      "version": "0.3.2",
      "provenance": [],
      "collapsed_sections": []
    },
    "kernelspec": {
      "name": "python3",
      "display_name": "Python 3"
    }
  },
  "cells": [
    {
      "metadata": {
        "id": "3iWnnnQBk8zM",
        "colab_type": "code",
        "colab": {}
      },
      "cell_type": "code",
      "source": [
        "!pip install chardet"
      ],
      "execution_count": 0,
      "outputs": []
    },
    {
      "metadata": {
        "id": "amxci4MCjS3n",
        "colab_type": "code",
        "colab": {}
      },
      "cell_type": "code",
      "source": [
        "import requests\n",
        "from bs4 import BeautifulSoup\n",
        "\n",
        "url = 'http://www.gamble-tips.com/system/jp/tipcd/kt/svccd/rcourse/rcoursecd/' + id[0] + '/'\n",
        "r = requests.get(url)\n",
        "soup = BeautifulSoup(r.content, 'html.parser')"
      ],
      "execution_count": 0,
      "outputs": []
    },
    {
      "metadata": {
        "id": "54gm5rgLmiD7",
        "colab_type": "code",
        "colab": {
          "base_uri": "https://localhost:8080/",
          "height": 51
        },
        "outputId": "c3db9222-f6cc-4c5c-8512-cd86b7dd4180"
      },
      "cell_type": "code",
      "source": [
        "# field_data = soup.select('td#contWrapper')\n",
        "# print(field_data)\n",
        "\n",
        "#テーブルを指定\n",
        "table = soup.findAll(\"table\",{\"class\":\"cardc\"})[0]\n",
        "rows = table.findAll(\"td\")\n",
        "\n",
        "# データの取得確認\n",
        "print(rows[0].string.split('競艇場')[0]) # 場名\n",
        "print(rows[4].string.replace('。', '')) # 水質"
      ],
      "execution_count": 66,
      "outputs": [
        {
          "output_type": "stream",
          "text": [
            "若松\n",
            "海水\n"
          ],
          "name": "stdout"
        }
      ]
    },
    {
      "metadata": {
        "id": "V7jX1_PcxaJC",
        "colab_type": "text"
      },
      "cell_type": "markdown",
      "source": [
        "## DB, テーブル作成\n",
        "\n",
        "### 場_基本 テーブルを作成"
      ]
    },
    {
      "metadata": {
        "id": "OtkA9w-Gw_jp",
        "colab_type": "code",
        "colab": {}
      },
      "cell_type": "code",
      "source": [
        "import sqlite3\n",
        "\n",
        "con = sqlite3.connect('aaa_data.db')\n",
        "\n",
        "cursor = con.cursor()\n",
        "\n",
        "cursor.execute(\"CREATE TABLE field_base(field_id, field_name, water)\");"
      ],
      "execution_count": 0,
      "outputs": []
    },
    {
      "metadata": {
        "id": "l_NdHLboxt1O",
        "colab_type": "text"
      },
      "cell_type": "markdown",
      "source": [
        "### データ追加"
      ]
    },
    {
      "metadata": {
        "id": "PV8f8P1RxkJQ",
        "colab_type": "code",
        "colab": {}
      },
      "cell_type": "code",
      "source": [
        "# data = [\n",
        "#     (1, \"saito\", 19980810),\n",
        "#     (2, \"hori\", 19961015),\n",
        "#     (3, \"yoda\", 20000505),\n",
        "#     (4, \"nishino\", 19940525),\n",
        "#     (5, \"kitano\", 19960717)\n",
        "# ]\n",
        "# cursor.executemany(\"INSERT INTO data_set VALUES(?,?,?)\", data)"
      ],
      "execution_count": 0,
      "outputs": []
    },
    {
      "metadata": {
        "id": "UmAO4tSC2ZIa",
        "colab_type": "text"
      },
      "cell_type": "markdown",
      "source": [
        "# スクレイピング\n",
        "\n",
        "## ここまでを踏まえ、以下の手順でデータをDBに追加\n",
        "\n",
        "\n",
        "1.   urlの末尾（場ID）を順に変更\n",
        "2.   url内の場名・水質を取得\n",
        "3.   作成したテーブルに場ID・場名・水質をinsert"
      ]
    },
    {
      "metadata": {
        "id": "orsdvgko218O",
        "colab_type": "code",
        "colab": {}
      },
      "cell_type": "code",
      "source": [
        "# 場ID\n",
        "id = ['01', '02', '03', '04', '05', '06', '07', '08', '09', '10', '11', '12', '13', '14', '15', '16', '17', '18', '19', '20', '21', '22', '23', '24']\n",
        "\n",
        "for i in id:\n",
        "  url = 'http://www.gamble-tips.com/system/jp/tipcd/kt/svccd/rcourse/rcoursecd/' + i + '/'\n",
        "  r = requests.get(url)\n",
        "  soup = BeautifulSoup(r.content, 'html.parser')\n",
        "  \n",
        "  #テーブルを指定\n",
        "  table = soup.findAll(\"table\",{\"class\":\"cardc\"})[0]\n",
        "  rows = table.findAll(\"td\")\n",
        "  \n",
        "  # データ追加\n",
        "  p = \"INSERT INTO field_base(field_id, field_name, water) VALUES(?, ?, ?)\"\n",
        "  cursor.execute( p, ( i, rows[0].string.string.split('競艇場')[0], rows[4].string.string.replace('。', '') ) )\n",
        "\n",
        "con.commit()"
      ],
      "execution_count": 0,
      "outputs": []
    },
    {
      "metadata": {
        "id": "r8aI2AH_5VMQ",
        "colab_type": "text"
      },
      "cell_type": "markdown",
      "source": [
        "## データのinsertを確認"
      ]
    },
    {
      "metadata": {
        "id": "gqfFCpeD5T8p",
        "colab_type": "code",
        "colab": {
          "base_uri": "https://localhost:8080/",
          "height": 425
        },
        "outputId": "184e834b-08ad-4ad0-df4b-bbb2c10e21e7"
      },
      "cell_type": "code",
      "source": [
        "cursor.execute('SELECT * FROM field_base')\n",
        "cursor.fetchall()"
      ],
      "execution_count": 69,
      "outputs": [
        {
          "output_type": "execute_result",
          "data": {
            "text/plain": [
              "[('01', '桐生', '淡水'),\n",
              " ('02', '戸田', '淡水'),\n",
              " ('03', '江戸川', '淡水と海水の混合'),\n",
              " ('04', '平和島', '海水'),\n",
              " ('05', '多摩川', '淡水硬め'),\n",
              " ('06', '浜名湖', '淡水と海水の混合'),\n",
              " ('07', '蒲郡', '汽水'),\n",
              " ('08', '常滑', '海水'),\n",
              " ('09', '津', '海水と淡水の混合'),\n",
              " ('10', '三国', '淡水'),\n",
              " ('11', '琵琶湖', '淡水'),\n",
              " ('12', '住之江', '工業用水と雨水からなる淡水硬い'),\n",
              " ('13', '尼崎', '淡水'),\n",
              " ('14', '鳴門', '海水軟らかめ'),\n",
              " ('15', '丸亀', '海水軟らかめ'),\n",
              " ('16', '児島', '海水軟らかめ'),\n",
              " ('17', '宮島', '海水'),\n",
              " ('18', '徳山', '海水'),\n",
              " ('19', '下関', '海水'),\n",
              " ('20', '若松', '海水'),\n",
              " ('21', '芦屋', '淡水それほど硬くない'),\n",
              " ('22', '福岡', '汽水'),\n",
              " ('23', '唐津', '淡水硬くない'),\n",
              " ('24', '大村', '海水')]"
            ]
          },
          "metadata": {
            "tags": []
          },
          "execution_count": 69
        }
      ]
    }
  ]
}